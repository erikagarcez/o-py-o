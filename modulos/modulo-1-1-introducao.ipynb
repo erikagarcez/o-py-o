{
  "cells": [
    {
      "cell_type": "markdown",
      "metadata": {
        "id": "X9iRftW6Q_Hm"
      },
      "source": [
        "<img src=\"https://github.com/erikagarcez/o-py-o/blob/master/imagens/1.png?raw=1\">\n",
        "\n",
        "## Revisando o conteúdo da semana!"
      ]
    },
    {
      "cell_type": "markdown",
      "metadata": {
        "id": "mZFUP6_1Q_Hn"
      },
      "source": [
        "1) Em uma instrução `print()`, o que acontece se você omitir um dos parênteses ou ambos?"
      ]
    },
    {
      "cell_type": "code",
      "execution_count": 1,
      "metadata": {
        "id": "_3o-v48mQ_Hn",
        "outputId": "9a4eaead-19f5-4fa6-9638-25eb2e227cc9",
        "colab": {
          "base_uri": "https://localhost:8080/"
        }
      },
      "outputs": [
        {
          "output_type": "stream",
          "name": "stdout",
          "text": [
            "2\n"
          ]
        }
      ],
      "source": [
        "print(2)"
      ]
    },
    {
      "cell_type": "code",
      "source": [
        "print 2"
      ],
      "metadata": {
        "id": "Soclz0oPRGpE",
        "outputId": "793157fc-4fec-473f-f49a-ad286811935a",
        "colab": {
          "base_uri": "https://localhost:8080/",
          "height": 130
        }
      },
      "execution_count": 2,
      "outputs": [
        {
          "output_type": "error",
          "ename": "SyntaxError",
          "evalue": "ignored",
          "traceback": [
            "\u001b[0;36m  File \u001b[0;32m\"<ipython-input-2-3a389ac45328>\"\u001b[0;36m, line \u001b[0;32m1\u001b[0m\n\u001b[0;31m    print 2\u001b[0m\n\u001b[0m          ^\u001b[0m\n\u001b[0;31mSyntaxError\u001b[0m\u001b[0;31m:\u001b[0m Missing parentheses in call to 'print'. Did you mean print(2)?\n"
          ]
        }
      ]
    },
    {
      "cell_type": "markdown",
      "metadata": {
        "id": "cr7_gTrGQ_Ho"
      },
      "source": [
        "2) O que acontece se puser um sinal de mais antes de um número? E se escrever assim: `2++2`?"
      ]
    },
    {
      "cell_type": "code",
      "execution_count": 3,
      "metadata": {
        "id": "ve_tpHSTQ_Ho",
        "outputId": "3e3f0a0a-3594-4ce5-a30d-4006b81f476f",
        "colab": {
          "base_uri": "https://localhost:8080/"
        }
      },
      "outputs": [
        {
          "output_type": "execute_result",
          "data": {
            "text/plain": [
              "4"
            ]
          },
          "metadata": {},
          "execution_count": 3
        }
      ],
      "source": [
        "2++2"
      ]
    },
    {
      "cell_type": "markdown",
      "metadata": {
        "id": "7bdIDFVNQ_Ho"
      },
      "source": [
        "3) O que acontece se você tentar usar 02 isso no Python?"
      ]
    },
    {
      "cell_type": "code",
      "execution_count": 4,
      "metadata": {
        "id": "nYVmznRRQ_Ho",
        "outputId": "8cb73b79-98bf-40ac-f597-a3859846a2d5",
        "colab": {
          "base_uri": "https://localhost:8080/",
          "height": 130
        }
      },
      "outputs": [
        {
          "output_type": "error",
          "ename": "SyntaxError",
          "evalue": "ignored",
          "traceback": [
            "\u001b[0;36m  File \u001b[0;32m\"<ipython-input-4-0908cbeb2fbd>\"\u001b[0;36m, line \u001b[0;32m1\u001b[0m\n\u001b[0;31m    02\u001b[0m\n\u001b[0m     ^\u001b[0m\n\u001b[0;31mSyntaxError\u001b[0m\u001b[0;31m:\u001b[0m invalid token\n"
          ]
        }
      ],
      "source": [
        "02"
      ]
    },
    {
      "cell_type": "markdown",
      "metadata": {
        "id": "1UHRvK2vQ_Ho"
      },
      "source": [
        "4) Quantos segundos há em 42 minutos e 42 segundos?"
      ]
    },
    {
      "cell_type": "code",
      "execution_count": 5,
      "metadata": {
        "id": "j97b1Ip7Q_Hp",
        "outputId": "868ad1a7-18f1-453e-a5f4-eea66a1c7de8",
        "colab": {
          "base_uri": "https://localhost:8080/"
        }
      },
      "outputs": [
        {
          "output_type": "execute_result",
          "data": {
            "text/plain": [
              "2562"
            ]
          },
          "metadata": {},
          "execution_count": 5
        }
      ],
      "source": [
        "42*60+42"
      ]
    },
    {
      "cell_type": "markdown",
      "metadata": {
        "id": "HrAotLOBQ_Hp"
      },
      "source": [
        "5) Vimos que `n = 42` é funciona. E `42 = n`?"
      ]
    },
    {
      "cell_type": "code",
      "execution_count": 6,
      "metadata": {
        "id": "tMvCFdp1Q_Hp",
        "outputId": "c871f9d5-b20d-4be7-add5-a6b14bb4036c",
        "colab": {
          "base_uri": "https://localhost:8080/",
          "height": 130
        }
      },
      "outputs": [
        {
          "output_type": "error",
          "ename": "SyntaxError",
          "evalue": "ignored",
          "traceback": [
            "\u001b[0;36m  File \u001b[0;32m\"<ipython-input-6-f0c37ed646fc>\"\u001b[0;36m, line \u001b[0;32m1\u001b[0m\n\u001b[0;31m    42 = n\u001b[0m\n\u001b[0m          ^\u001b[0m\n\u001b[0;31mSyntaxError\u001b[0m\u001b[0;31m:\u001b[0m can't assign to literal\n"
          ]
        }
      ],
      "source": [
        "42 = n"
      ]
    },
    {
      "cell_type": "markdown",
      "metadata": {
        "id": "VWnQ-4djQ_Hp"
      },
      "source": [
        "6) Qual é o resultado da expressão `x = y = 1`? Você consegue explicar o que aconteceu aqui?"
      ]
    },
    {
      "cell_type": "code",
      "execution_count": 7,
      "metadata": {
        "id": "Q2s40I83Q_Hp"
      },
      "outputs": [],
      "source": [
        "x = y = 1"
      ]
    },
    {
      "cell_type": "markdown",
      "source": [
        "Foi definido que x é igual a y, e igual a 1. Então se print x ou y o resultado será 1"
      ],
      "metadata": {
        "id": "1tX7T-m6RZNU"
      }
    },
    {
      "cell_type": "markdown",
      "metadata": {
        "id": "WF8qBrKRQ_Hp"
      },
      "source": [
        "7) O que acontece se você puser um ponto e vírgula no fim de uma instrução no Python? E um ponto?"
      ]
    },
    {
      "cell_type": "code",
      "execution_count": 8,
      "metadata": {
        "id": "DUqW2KIxQ_Hq"
      },
      "outputs": [],
      "source": [
        "x = 1;"
      ]
    },
    {
      "cell_type": "code",
      "source": [
        "x = 1."
      ],
      "metadata": {
        "id": "SL_u9Bn7Rpmk"
      },
      "execution_count": 9,
      "outputs": []
    },
    {
      "cell_type": "markdown",
      "metadata": {
        "id": "gqCeUlb9Q_Hq"
      },
      "source": [
        "8) Em notação matemática é possível multiplicar x e y desta forma: xy. O que acontece se você tentar fazer o mesmo no Python?\n",
        "\n",
        "```python\n",
        "x = 2\n",
        "y = 8\n",
        "\n",
        "xy\n",
        "```"
      ]
    },
    {
      "cell_type": "code",
      "execution_count": 10,
      "metadata": {
        "id": "w1cFlpb-Q_Hq",
        "outputId": "aff9972d-6416-4a36-f1d5-75a99c541ab6",
        "colab": {
          "base_uri": "https://localhost:8080/",
          "height": 200
        }
      },
      "outputs": [
        {
          "output_type": "error",
          "ename": "NameError",
          "evalue": "ignored",
          "traceback": [
            "\u001b[0;31m---------------------------------------------------------------------------\u001b[0m",
            "\u001b[0;31mNameError\u001b[0m                                 Traceback (most recent call last)",
            "\u001b[0;32m<ipython-input-10-315783f7a646>\u001b[0m in \u001b[0;36m<module>\u001b[0;34m\u001b[0m\n\u001b[1;32m      1\u001b[0m \u001b[0mx\u001b[0m\u001b[0;34m=\u001b[0m\u001b[0;36m2\u001b[0m\u001b[0;34m\u001b[0m\u001b[0;34m\u001b[0m\u001b[0m\n\u001b[1;32m      2\u001b[0m \u001b[0my\u001b[0m\u001b[0;34m=\u001b[0m\u001b[0;36m8\u001b[0m\u001b[0;34m\u001b[0m\u001b[0;34m\u001b[0m\u001b[0m\n\u001b[0;32m----> 3\u001b[0;31m \u001b[0mxy\u001b[0m\u001b[0;34m\u001b[0m\u001b[0;34m\u001b[0m\u001b[0m\n\u001b[0m",
            "\u001b[0;31mNameError\u001b[0m: name 'xy' is not defined"
          ]
        }
      ],
      "source": [
        "x=2\n",
        "y=8\n",
        "xy"
      ]
    },
    {
      "cell_type": "markdown",
      "source": [
        "O python não identifica xy, pois para multiplicar é necessário o *, nesse caso ele procura o objeto xy, que não foi definido. "
      ],
      "metadata": {
        "id": "mdNg7V31Rx0D"
      }
    },
    {
      "cell_type": "markdown",
      "metadata": {
        "id": "YXF8thJmQ_Hq"
      },
      "source": [
        "9) O que significa a saída do código abaixo?\n",
        "\n",
        "```python\n",
        "nome = 'Grupo de estudos Ó Py Ó'\n",
        "type(nome)\n",
        "```"
      ]
    },
    {
      "cell_type": "code",
      "execution_count": 11,
      "metadata": {
        "id": "bN-34B-KQ_Hq",
        "outputId": "cb2ea5e7-eb60-4e24-f19d-b70afefd3ca1",
        "colab": {
          "base_uri": "https://localhost:8080/"
        }
      },
      "outputs": [
        {
          "output_type": "execute_result",
          "data": {
            "text/plain": [
              "str"
            ]
          },
          "metadata": {},
          "execution_count": 11
        }
      ],
      "source": [
        "nome = 'Grupo de estudos Ó Py Ó'\n",
        "type(nome)"
      ]
    },
    {
      "cell_type": "markdown",
      "source": [
        "Significa que o objeto 'nome' é um string"
      ],
      "metadata": {
        "id": "l_GMdPH1SBAQ"
      }
    },
    {
      "cell_type": "markdown",
      "metadata": {
        "id": "UA6VxK_gQ_Hq"
      },
      "source": [
        "10) Repdoruza um erro de sintaxe"
      ]
    },
    {
      "cell_type": "code",
      "execution_count": 12,
      "metadata": {
        "id": "uJTntzxvQ_Hr",
        "outputId": "7591157f-a522-49cd-bff7-41cdce0f1bbb",
        "colab": {
          "base_uri": "https://localhost:8080/",
          "height": 130
        }
      },
      "outputs": [
        {
          "output_type": "error",
          "ename": "SyntaxError",
          "evalue": "ignored",
          "traceback": [
            "\u001b[0;36m  File \u001b[0;32m\"<ipython-input-12-92b1b2432d8d>\"\u001b[0;36m, line \u001b[0;32m1\u001b[0m\n\u001b[0;31m    global = \"world\"\u001b[0m\n\u001b[0m           ^\u001b[0m\n\u001b[0;31mSyntaxError\u001b[0m\u001b[0;31m:\u001b[0m invalid syntax\n"
          ]
        }
      ],
      "source": [
        "global = \"world\""
      ]
    },
    {
      "cell_type": "markdown",
      "source": [
        "Erro de sintaxe pq global é uma palavra-chave do python e não pode ser usada como objeto"
      ],
      "metadata": {
        "id": "V5vUhe4zSVSv"
      }
    },
    {
      "cell_type": "markdown",
      "metadata": {
        "id": "4me7zxwEQ_Hr"
      },
      "source": [
        "11) Reproduza um erro de identação"
      ]
    },
    {
      "cell_type": "code",
      "execution_count": 15,
      "metadata": {
        "id": "e60PEnbaQ_Hr",
        "outputId": "001129e3-a174-4edf-803b-fe33aa1d4231",
        "colab": {
          "base_uri": "https://localhost:8080/",
          "height": 130
        }
      },
      "outputs": [
        {
          "output_type": "error",
          "ename": "IndentationError",
          "evalue": "ignored",
          "traceback": [
            "\u001b[0;36m  File \u001b[0;32m\"<ipython-input-15-7faeac685b93>\"\u001b[0;36m, line \u001b[0;32m3\u001b[0m\n\u001b[0;31m    print('maior')\u001b[0m\n\u001b[0m        ^\u001b[0m\n\u001b[0;31mIndentationError\u001b[0m\u001b[0;31m:\u001b[0m expected an indented block\n"
          ]
        }
      ],
      "source": [
        "x = 10\n",
        "if (x > 5):\n",
        "print('maior')"
      ]
    },
    {
      "cell_type": "markdown",
      "source": [
        "o comando 'print('maior')' deveria estar identado. "
      ],
      "metadata": {
        "id": "Oyxk76CWS64u"
      }
    },
    {
      "cell_type": "code",
      "source": [
        "x = 10\n",
        "if (x > 5):\n",
        "  print('maior')"
      ],
      "metadata": {
        "id": "K1rtgOiYTAY4",
        "outputId": "25c5319b-4678-4403-d819-444fee4c0f07",
        "colab": {
          "base_uri": "https://localhost:8080/"
        }
      },
      "execution_count": 16,
      "outputs": [
        {
          "output_type": "stream",
          "name": "stdout",
          "text": [
            "maior\n"
          ]
        }
      ]
    },
    {
      "cell_type": "markdown",
      "metadata": {
        "id": "ugcsZsrVQ_Hr"
      },
      "source": [
        "---"
      ]
    },
    {
      "cell_type": "markdown",
      "metadata": {
        "id": "eq8ZwddLQ_Hr"
      },
      "source": [
        "## Quais são as outras formas de praticar esses conceitos?\n",
        "\n",
        "<img src=\"https://media.giphy.com/media/2wS8Hh619rZvvf95op/giphy.gif\" align=\"left\">"
      ]
    },
    {
      "cell_type": "markdown",
      "metadata": {
        "id": "-SiLTnTKQ_Hr"
      },
      "source": [
        "<Adicionar atividade de sua preferência para aplicação dos conceitos>"
      ]
    }
  ],
  "metadata": {
    "kernelspec": {
      "display_name": "Python 3",
      "language": "python",
      "name": "python3"
    },
    "language_info": {
      "codemirror_mode": {
        "name": "ipython",
        "version": 3
      },
      "file_extension": ".py",
      "mimetype": "text/x-python",
      "name": "python",
      "nbconvert_exporter": "python",
      "pygments_lexer": "ipython3",
      "version": "3.8.5"
    },
    "colab": {
      "provenance": []
    }
  },
  "nbformat": 4,
  "nbformat_minor": 0
}