{
  "cells": [
    {
      "cell_type": "markdown",
      "metadata": {
        "id": "view-in-github",
        "colab_type": "text"
      },
      "source": [
        "<a href=\"https://colab.research.google.com/github/erikagarcez/o-py-o/blob/master/modulos/modulo-1-2-1-funcoes.ipynb\" target=\"_parent\"><img src=\"https://colab.research.google.com/assets/colab-badge.svg\" alt=\"Open In Colab\"/></a>"
      ]
    },
    {
      "cell_type": "markdown",
      "metadata": {
        "id": "FSl0U9dX0kvw"
      },
      "source": [
        "<img src=\"https://github.com/erikagarcez/o-py-o/blob/master/imagens/2.png?raw=1\">\n",
        "\n",
        "## Revisando o conteúdo da semana!"
      ]
    },
    {
      "cell_type": "markdown",
      "metadata": {
        "id": "9I2zrUNS0kv2"
      },
      "source": [
        "Um objeto de função é um valor que pode ser atribuído a uma variável ou passado como argumento. Por exemplo, `print_contact` é uma função que recebe como parâmetro dois objetos de funções chamados `fRegister` e `fTimeRegister`.\n",
        "As funções `fRegister` e `fTimeRegister` foram feitas para imprimir os dados de um contato e imprimir a data na qual aquele contato foi cadastrado, da uma olhadinha na definição delas:"
      ]
    },
    {
      "cell_type": "code",
      "execution_count": 7,
      "metadata": {
        "id": "RrIYqQ-U0kv3"
      },
      "outputs": [],
      "source": [
        "def print_contact(fRegister, fTimeRegister):\n",
        "    print_register()\n",
        "    print_update()"
      ]
    },
    {
      "cell_type": "code",
      "execution_count": 3,
      "metadata": {
        "id": "22X_paT50kv5"
      },
      "outputs": [],
      "source": [
        "def print_register():\n",
        "    print('***** Dados do contato: *****')\n",
        "    print('Nome: ', name)\n",
        "    print('Email: ', email)\n",
        "    print('Endereço: ', adress)\n",
        "    print('Ano de nascimento: ', birthYear)"
      ]
    },
    {
      "cell_type": "code",
      "execution_count": 4,
      "metadata": {
        "id": "mgdmWKcP0kv6"
      },
      "outputs": [],
      "source": [
        "def print_update():\n",
        "    print('Atualizado em: ', updated)"
      ]
    },
    {
      "cell_type": "markdown",
      "metadata": {
        "id": "tGhzMjvs0kv6"
      },
      "source": [
        "1) O que acontece se você tentar executar diretamente `print_contact()`? "
      ]
    },
    {
      "cell_type": "markdown",
      "source": [
        "Não funciona pois os parâmetros não foram definidos. "
      ],
      "metadata": {
        "id": "RvJIrj84BCB4"
      }
    },
    {
      "cell_type": "code",
      "execution_count": 5,
      "metadata": {
        "id": "_j2UheRo0kv7",
        "colab": {
          "base_uri": "https://localhost:8080/",
          "height": 165
        },
        "outputId": "4ff843e6-791a-4040-841a-2ec6a840c2b4"
      },
      "outputs": [
        {
          "output_type": "error",
          "ename": "TypeError",
          "evalue": "ignored",
          "traceback": [
            "\u001b[0;31m---------------------------------------------------------------------------\u001b[0m",
            "\u001b[0;31mTypeError\u001b[0m                                 Traceback (most recent call last)",
            "\u001b[0;32m<ipython-input-5-3a274d09317d>\u001b[0m in \u001b[0;36m<module>\u001b[0;34m\u001b[0m\n\u001b[0;32m----> 1\u001b[0;31m \u001b[0mprint_contact\u001b[0m\u001b[0;34m(\u001b[0m\u001b[0;34m)\u001b[0m\u001b[0;34m\u001b[0m\u001b[0;34m\u001b[0m\u001b[0m\n\u001b[0m",
            "\u001b[0;31mTypeError\u001b[0m: print_contact() missing 2 required positional arguments: 'fRegister' and 'fTimeRegister'"
          ]
        }
      ],
      "source": [
        "print_contact()"
      ]
    },
    {
      "cell_type": "markdown",
      "metadata": {
        "id": "8E4f4Ik60kv7"
      },
      "source": [
        "2) O que você precisa fazer para `print_contact` funcione corretamente?\n",
        "\n",
        "> ##### Dica: preste atenção nas mensagens de erro, elas são ótimas guias!"
      ]
    },
    {
      "cell_type": "markdown",
      "source": [
        "definir os parâmetros"
      ],
      "metadata": {
        "id": "-3SOiZyaBLK5"
      }
    },
    {
      "cell_type": "code",
      "execution_count": 6,
      "metadata": {
        "id": "gQGKO4eC0kv8",
        "colab": {
          "base_uri": "https://localhost:8080/"
        },
        "outputId": "828dc372-3c4a-4332-dbe9-0c41520ccabf"
      },
      "outputs": [
        {
          "output_type": "stream",
          "name": "stdout",
          "text": [
            "***** Dados do contato: *****\n",
            "Nome:  Erika\n",
            "Email:  erika.garcez.rocha@gmail.com\n",
            "Endereço:  Acupe de Brotas, Salvador\n",
            "Ano de nascimento:  1991\n",
            "Atualizado em:  2022-10-21 14:49:28.375806\n"
          ]
        }
      ],
      "source": [
        "from datetime import datetime\n",
        "\n",
        "name = 'Erika'\n",
        "email = 'erika.garcez.rocha@gmail.com'\n",
        "adress = 'Acupe de Brotas, Salvador'\n",
        "birthYear = '1991'\n",
        "updated = datetime.now()\n",
        "\n",
        "print_contact(print_register, print_update)"
      ]
    },
    {
      "cell_type": "markdown",
      "metadata": {
        "id": "I0iTeBnA0kv8"
      },
      "source": [
        "3) Faça as mudanças necessárias para imprimir a **\"Data de aniversário\"** ao invés do **\"Ano de Nascimento\"**."
      ]
    },
    {
      "cell_type": "code",
      "execution_count": 12,
      "metadata": {
        "id": "VpK48TgO0kv9",
        "colab": {
          "base_uri": "https://localhost:8080/"
        },
        "outputId": "755ec7ce-bc96-4d27-c26c-b662ba83701b"
      },
      "outputs": [
        {
          "output_type": "stream",
          "name": "stdout",
          "text": [
            "***** Dados do contato: *****\n",
            "Nome:  Erika\n",
            "Email:  erika.garcez.rocha@gmail.com\n",
            "Endereço:  Acupe de Brotas, Salvador\n",
            "Data de aniversário:  18 Nov\n",
            "Atualizado em:  2022-10-21 14:49:28.375806\n"
          ]
        }
      ],
      "source": [
        "birthDate = '11/18/91' # Formato de Mês / Dia / Ano - precisa ser atribuído dessa forma\n",
        "birthDate = datetime.strptime(birthDate, '%m/%d/%y')\n",
        "\n",
        "def print_register():\n",
        "    print('***** Dados do contato: *****')\n",
        "    print('Nome: ', name)\n",
        "    print('Email: ', email)\n",
        "    print('Endereço: ', adress)\n",
        "    print('Data de aniversário: ', birthDate.strftime(\"%d %b\"))\n",
        "\n",
        "print_contact(print_register, print_update)"
      ]
    },
    {
      "cell_type": "markdown",
      "metadata": {
        "id": "lMun5upw0kv9"
      },
      "source": [
        "Você conhece a função `input()`? Execute o código abaixo pra saber como ela funciona:\n",
        "\n",
        "> ##### Dica: depois de digitar o valor desejado tecle enter"
      ]
    },
    {
      "cell_type": "code",
      "execution_count": 13,
      "metadata": {
        "id": "pUuq97vD0kv-",
        "colab": {
          "base_uri": "https://localhost:8080/"
        },
        "outputId": "ccb6cbe3-aee4-46d2-d5cd-99e4965b70f6"
      },
      "outputs": [
        {
          "output_type": "stream",
          "name": "stdout",
          "text": [
            "Entre com o 1º valor: 12\n",
            "Entre com o 2º valor: 10\n",
            "A soma é 22\n"
          ]
        }
      ],
      "source": [
        "num1 = input('Entre com o 1º valor: ')\n",
        "\n",
        "num2 = input('Entre com o 2º valor: ')\n",
        "\n",
        "soma = int(num1) + int(num2)\n",
        "\n",
        "print(\"A soma é\", soma)"
      ]
    },
    {
      "cell_type": "markdown",
      "metadata": {
        "id": "ohOHgbIm0kv_"
      },
      "source": [
        "> ##### Saiba mais sobre `input()` no tutorial [Função input e print no Python: Entrada e Saída de dados](https://pythonacademy.com.br/blog/input-e-print-entrada-e-saida-de-dados-no-python)"
      ]
    },
    {
      "cell_type": "markdown",
      "metadata": {
        "id": "CyL9qvzT0kv_"
      },
      "source": [
        "4) Agora que você ja sabe como `input()` funciona, faça uma função que solicite 4 notas e mostre a média."
      ]
    },
    {
      "cell_type": "code",
      "execution_count": 15,
      "metadata": {
        "id": "O5Fsbys-0kwA",
        "colab": {
          "base_uri": "https://localhost:8080/"
        },
        "outputId": "d03bfde8-cfaf-43cf-8318-02b627bfe269"
      },
      "outputs": [
        {
          "output_type": "stream",
          "name": "stdout",
          "text": [
            "Entre com o 1º valor: 5\n",
            "Entre com o 2º valor: 6\n",
            "Entre com o 3º valor: 5\n",
            "Entre com o 4º valor: 6\n",
            "A media é 5.5\n"
          ]
        }
      ],
      "source": [
        "num1 = input('Entre com o 1º valor: ')\n",
        "num2 = input('Entre com o 2º valor: ')\n",
        "num3 = input('Entre com o 3º valor: ')\n",
        "num4 = input('Entre com o 4º valor: ')\n",
        "\n",
        "soma = int(num1) + int(num2) + int(num3) + int(num4)\n",
        "media = soma / 4\n",
        "\n",
        "print(\"A media é\", media)"
      ]
    },
    {
      "cell_type": "markdown",
      "metadata": {
        "id": "vkRSnQ4F0kwA"
      },
      "source": [
        "6---\n",
        "\n",
        "## Quais são as outras formas de praticar esses conceitos?\n",
        "\n",
        "<img src=\"https://media1.tenor.com/images/325243df1673b884f9a044797c1cfd00/tenor.gif\" align=\"left\">"
      ]
    },
    {
      "cell_type": "markdown",
      "metadata": {
        "id": "PT3HYQsI0kwA"
      },
      "source": [
        "<Adicionar atividade de sua preferência para aplicação dos conceitos>"
      ]
    }
  ],
  "metadata": {
    "kernelspec": {
      "display_name": "Python 3",
      "language": "python",
      "name": "python3"
    },
    "language_info": {
      "codemirror_mode": {
        "name": "ipython",
        "version": 3
      },
      "file_extension": ".py",
      "mimetype": "text/x-python",
      "name": "python",
      "nbconvert_exporter": "python",
      "pygments_lexer": "ipython3",
      "version": "3.8.5"
    },
    "colab": {
      "provenance": [],
      "include_colab_link": true
    }
  },
  "nbformat": 4,
  "nbformat_minor": 0
}