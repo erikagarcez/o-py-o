{
  "cells": [
    {
      "cell_type": "markdown",
      "metadata": {
        "id": "YNvyuoHlKH-X"
      },
      "source": [
        "<img src=\"https://github.com/erikagarcez/o-py-o/blob/master/imagens/3.png?raw=1\">\n",
        "\n",
        "## Revisando o conteúdo da semana!"
      ]
    },
    {
      "cell_type": "markdown",
      "metadata": {
        "id": "NfG7Ynj6KH-d"
      },
      "source": [
        "1) Faça um algoritmo que solicite a entrada de um número e exiba o dia da semana correspondente (1-Domingo, 2- Segunda,...,7-Sábado), se receber um outro valor a mensagem \"Valor inválido\" deverá ser exibida."
      ]
    },
    {
      "cell_type": "code",
      "execution_count": 10,
      "metadata": {
        "id": "UwU4UDgOKH-f",
        "outputId": "df9ef6e3-9146-4962-f3e7-b77a70593035",
        "colab": {
          "base_uri": "https://localhost:8080/"
        }
      },
      "outputs": [
        {
          "output_type": "stream",
          "name": "stdout",
          "text": [
            "Insira o número do dia da semana:4\n",
            "Quarta\n"
          ]
        }
      ],
      "source": [
        "week = int(input('Insira o número do dia da semana:'))\n",
        "if week == 1:\n",
        "  print('Domingo')\n",
        "elif week == 2:\n",
        "  print('Segunda')\n",
        "elif week == 3:\n",
        "  print('Terça')\n",
        "elif week == 4:\n",
        "  print('Quarta')\n",
        "elif week == 5:\n",
        "  print('Quinta')\n",
        "elif week == 6:\n",
        "  print('Sexta')\n",
        "elif week == 7:\n",
        "  print('Sabado')\n",
        "else: \n",
        "  print('Valor Inválido')\n"
      ]
    },
    {
      "cell_type": "markdown",
      "metadata": {
        "id": "9wLnXPJrKH-g"
      },
      "source": [
        "2) Faça um algoritmo que pergunte a usuária em que ano ela nasceu e, caso ela seja maior de idade, imprima em que ano ela fez 18 anos. Caso ela seja menor de idade, imprima em qual ano ela completará 18 anos. \n",
        "\n",
        "Pra deixar a saída mais fácil de entender utilize mensagens como: **\"Você fez 18 anos em: \"**, **\"Você completará 18 anos em: \"**."
      ]
    },
    {
      "cell_type": "code",
      "execution_count": 15,
      "metadata": {
        "id": "XKDTxio_KH-h",
        "outputId": "59f33a2e-22e1-4d07-df26-003139abe6ba",
        "colab": {
          "base_uri": "https://localhost:8080/"
        }
      },
      "outputs": [
        {
          "output_type": "stream",
          "name": "stdout",
          "text": [
            "Insira seu ano de nascimento:2010\n",
            "Você completará 18 anos em: 2028\n"
          ]
        }
      ],
      "source": [
        "ano = int(input('Insira seu ano de nascimento:'))\n",
        "if (2022 - ano) >= 18:\n",
        "  ano18 = ano + 18\n",
        "  print ('Você fez 18 anos em:',ano18)\n",
        "else: \n",
        "  ano18 = ano + 18\n",
        "  print('Você completará 18 anos em:',ano18)"
      ]
    },
    {
      "cell_type": "markdown",
      "metadata": {
        "id": "hi3nte90KH-i"
      },
      "source": [
        "3) Faça um algoritmo que solicite as 3 notas da usuária, calcule a média e indique se a aluna foi aprovada ou reprovada (nota precisar ser **maior ou igual** à 7 para a aluna ser aprovada)."
      ]
    },
    {
      "cell_type": "code",
      "execution_count": 20,
      "metadata": {
        "id": "L6Dn2PmCKH-j",
        "outputId": "32262b81-c061-4c7c-a2e4-1986a2fae47c",
        "colab": {
          "base_uri": "https://localhost:8080/"
        }
      },
      "outputs": [
        {
          "output_type": "stream",
          "name": "stdout",
          "text": [
            "Insira sua primeira nota:5.0\n",
            "Insira sua segunda nota:6.5\n",
            "Insira sua terceira nota:4.2\n",
            "Você foi reprovada com média: 5.233333333333333\n"
          ]
        }
      ],
      "source": [
        "nota1 = float(input('Insira sua primeira nota:'))\n",
        "nota2 = float(input('Insira sua segunda nota:'))\n",
        "nota3 = float(input('Insira sua terceira nota:'))\n",
        "media = (nota1 + nota2 + nota3) / 3\n",
        "if media > 7:\n",
        "  print('Você foi aprovada com média:',media)\n",
        "else: \n",
        "  print('Você foi reprovada com média:',media)"
      ]
    },
    {
      "cell_type": "markdown",
      "metadata": {
        "id": "WZiODNzpKH-j"
      },
      "source": [
        "4) Faça um algoritmo que pergunte a idade da usuária e depois disso exiba a classificação etária de acordo com as faixas de valores:\n",
        "    \n",
        "- Criança para 0 até 11 anos;\n",
        "- Adolescente para 12 até 18 anos;\n",
        "- Jovem para 19 até 24 anos;\n",
        "- Adulto para 25 até 40 anos;\n",
        "- Meia Idade para 41 até 60 anos;\n",
        "- Idoso acima de 60 anos."
      ]
    },
    {
      "cell_type": "code",
      "execution_count": 31,
      "metadata": {
        "id": "4vpcM8FEKH-l",
        "outputId": "f64de19f-1695-4d53-cd25-cee40a52ab93",
        "colab": {
          "base_uri": "https://localhost:8080/"
        }
      },
      "outputs": [
        {
          "output_type": "stream",
          "name": "stdout",
          "text": [
            "Insira sua idade:57\n",
            "Classificação etária: Meia Idade\n"
          ]
        }
      ],
      "source": [
        "idade = int(input('Insira sua idade:'))\n",
        "if idade < 0:\n",
        "  print ('Valor inválido')\n",
        "elif idade <= 11:\n",
        "  print('Classificação etária: Criança')\n",
        "elif idade > 11 and idade <= 18:\n",
        "  print('Classificação etária: Adolescente')\n",
        "elif idade > 18 and idade <= 24:\n",
        "  print('Classificação etária: Jovem')\n",
        "elif idade > 24 and idade <= 40:\n",
        "  print('Classificação etária: Adulto')\n",
        "elif idade > 40 and idade <= 60:\n",
        "  print('Classificação etária: Meia Idade')\n",
        "elif idade > 60:\n",
        "  print('Classificação etária: Idoso')"
      ]
    },
    {
      "cell_type": "markdown",
      "metadata": {
        "id": "8rn9O1lrKH-l"
      },
      "source": [
        "> ##### Você sabe como Python diferencia \"PyLadies\" de \"Pyladies\"? Dá só uma olhada nisso: [Comparação de Strings em Python - eXcript](http://excript.com/python/comparacao-de-string-python.html)"
      ]
    },
    {
      "cell_type": "markdown",
      "metadata": {
        "id": "SXTrSTwtKH-m"
      },
      "source": [
        "4) Faça um programa que solicite a entrada de dois nomes e imprima uma mensagem informando se eles são iguais ou não.\n",
        "\n",
        "\n",
        "> ##### Dica: cuidado com o int no `input()`"
      ]
    },
    {
      "cell_type": "code",
      "execution_count": 33,
      "metadata": {
        "id": "_uYH-2fgKH-n",
        "outputId": "b6901b08-0f9b-4b77-a3f1-41d2611beb94",
        "colab": {
          "base_uri": "https://localhost:8080/"
        }
      },
      "outputs": [
        {
          "output_type": "stream",
          "name": "stdout",
          "text": [
            "Insira primeiro nome:PyLadies\n",
            "Insira segundo nome:Pyladies\n",
            "Os nome são diferentes!\n"
          ]
        }
      ],
      "source": [
        "nome1 = input('Insira primeiro nome:')\n",
        "nome2 = input('Insira segundo nome:')\n",
        "if nome1 == nome2:\n",
        "  print('Os nomes são iguais!')\n",
        "else:\n",
        "  print('Os nome são diferentes!')"
      ]
    },
    {
      "cell_type": "markdown",
      "metadata": {
        "id": "rhjEFETlKH-n"
      },
      "source": [
        "---\n",
        "\n",
        "## Quais são as outras formas de praticar esses conceitos?\n",
        "\n",
        "<img src=\"https://media.giphy.com/media/LqZZp4y9ANZIcQzuXC/giphy.gif\" align=\"left\">"
      ]
    },
    {
      "cell_type": "code",
      "execution_count": null,
      "metadata": {
        "id": "V6nnm7Q6KH-o"
      },
      "outputs": [],
      "source": [
        "<Adicionar atividade de sua preferência para aplicação dos conceitos>"
      ]
    }
  ],
  "metadata": {
    "kernelspec": {
      "display_name": "Python 3",
      "language": "python",
      "name": "python3"
    },
    "language_info": {
      "codemirror_mode": {
        "name": "ipython",
        "version": 3
      },
      "file_extension": ".py",
      "mimetype": "text/x-python",
      "name": "python",
      "nbconvert_exporter": "python",
      "pygments_lexer": "ipython3",
      "version": "3.8.5"
    },
    "colab": {
      "provenance": []
    }
  },
  "nbformat": 4,
  "nbformat_minor": 0
}