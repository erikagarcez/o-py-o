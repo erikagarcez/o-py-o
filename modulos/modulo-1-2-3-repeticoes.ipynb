{
  "cells": [
    {
      "cell_type": "markdown",
      "metadata": {
        "id": "Bxf_EK-yQ03P"
      },
      "source": [
        "<img src=\"https://github.com/erikagarcez/o-py-o/blob/master/imagens/4.png?raw=1\">\n",
        "\n",
        "## Revisando o conteúdo da semana!"
      ]
    },
    {
      "cell_type": "markdown",
      "metadata": {
        "id": "IYtuyCFwQ03S"
      },
      "source": [
        "1) Faça um programa que leia um nome de usuário e a sua senha e não aceite a senha igual ao nome do usuário, mostrando uma mensagem de erro e voltando a pedir as informações."
      ]
    },
    {
      "cell_type": "code",
      "execution_count": 2,
      "metadata": {
        "id": "lt9uCCl3Q03T",
        "outputId": "90dd0fde-f331-4de6-fc4e-2a516f8f24cc",
        "colab": {
          "base_uri": "https://localhost:8080/"
        }
      },
      "outputs": [
        {
          "output_type": "stream",
          "name": "stdout",
          "text": [
            "Insira o nome de usuario:egarcez\n",
            "Insira senha:egarcez\n",
            "Error: nome de usuario não pode ser igual a senha\n",
            "Insira o nome de usuario:egarcez\n",
            "Insira senha:1234\n",
            "Usuario cadastrado. Nome de Usuario: egarcez senha 1234\n"
          ]
        }
      ],
      "source": [
        "user = input('Insira o nome de usuario:')\n",
        "senha = input('Insira senha:')\n",
        "\n",
        "while user == senha:\n",
        "  print ('Error: nome de usuario não pode ser igual a senha')\n",
        "  user = input('Insira o nome de usuario:')\n",
        "  senha = input('Insira senha:')\n",
        "\n",
        "print ('Usuario cadastrado. Nome de Usuario:',user,'senha',senha)"
      ]
    },
    {
      "cell_type": "markdown",
      "metadata": {
        "id": "KN7z04kqQ03U"
      },
      "source": [
        "2) Há um método disponível nas variáveis do tipo **string** chamado `count`. Ele recebe uma string como parâmetro e tem como objetivo contar quantas vezes esse parâmetro aparece na string original onde ele está sendo chamado. Ou seja, se eu quiser contar quantas vezes a letra **\"a\"** aparece em **\"banana\"** eu posso fazer algo como:\n",
        "```python\n",
        "fruta = 'banana'\n",
        "fruta.count(a)\n",
        "```\n",
        "\n",
        "E isso vai me dar o resultado 3. Não acredita? Testa ai! "
      ]
    },
    {
      "cell_type": "code",
      "execution_count": 4,
      "metadata": {
        "id": "CId9bpBBQ03V",
        "outputId": "2743acb9-c0da-4814-8421-55bb24c39c5b",
        "colab": {
          "base_uri": "https://localhost:8080/"
        }
      },
      "outputs": [
        {
          "output_type": "execute_result",
          "data": {
            "text/plain": [
              "3"
            ]
          },
          "metadata": {},
          "execution_count": 4
        }
      ],
      "source": [
        "fruta = 'banana'\n",
        "fruta.count('a')"
      ]
    },
    {
      "cell_type": "markdown",
      "metadata": {
        "id": "Z9tAaI2UQ03V"
      },
      "source": [
        "Pois agora que sabemos disso, é chegado o momento de descobrimos quantos **\"e's\"** existem em [Prefixo de Verão ](https://www.youtube.com/watch?v=CObCy8qduuo&ab_channel=FunkeirodaZonaSul) música da maravilhosa Banda Mel. \n",
        "\n",
        "Eu vou deixar a string já montada aqui e você faz o resto beleza?!"
      ]
    },
    {
      "cell_type": "code",
      "execution_count": 6,
      "metadata": {
        "id": "EuIgSl95Q03W",
        "outputId": "eb381c95-de62-49a9-be58-11a2bea041b1",
        "colab": {
          "base_uri": "https://localhost:8080/",
          "height": 70
        }
      },
      "outputs": [
        {
          "output_type": "execute_result",
          "data": {
            "text/plain": [
              "'Ae, ae, ae, ae Ei, ei, ei, ei Oô, oô, oô, oô, oô, oô, o  Quando você chegar Quando você chegar Quando você chegar Numa nova estação Te espero no verão  Salve, salvador Me bato, me quebro tudo por amor Eu sou do pelô O negro é raça é fruto do amor Salve, salvador Me bato, me quebro tudo por amor Eu sou do pelô  Ae, ae, ae, ae Ei, ei, ei, ei Oô, oô, oô, oô, oô, oô, o  Ae, ae, ae, ae Ei, ei, ei, ei Oô, oô, o'"
            ],
            "application/vnd.google.colaboratory.intrinsic+json": {
              "type": "string"
            }
          },
          "metadata": {},
          "execution_count": 6
        }
      ],
      "source": [
        "music = 'Ae, ae, ae, ae \\\n",
        "Ei, ei, ei, ei \\\n",
        "Oô, oô, oô, oô, oô, oô, o \\\n",
        " \\\n",
        "Quando você chegar \\\n",
        "Quando você chegar \\\n",
        "Quando você chegar \\\n",
        "Numa nova estação \\\n",
        "Te espero no verão \\\n",
        " \\\n",
        "Salve, salvador \\\n",
        "Me bato, me quebro tudo por amor \\\n",
        "Eu sou do pelô \\\n",
        "O negro é raça é fruto do amor \\\n",
        "Salve, salvador \\\n",
        "Me bato, me quebro tudo por amor \\\n",
        "Eu sou do pelô \\\n",
        " \\\n",
        "Ae, ae, ae, ae \\\n",
        "Ei, ei, ei, ei \\\n",
        "Oô, oô, oô, oô, oô, oô, o \\\n",
        " \\\n",
        "Ae, ae, ae, ae \\\n",
        "Ei, ei, ei, ei \\\n",
        "Oô, oô, o' "
      ]
    },
    {
      "cell_type": "code",
      "source": [
        "music.count('e')"
      ],
      "metadata": {
        "id": "YUYhUdVHsPYg",
        "outputId": "5a6b4fb6-1d1d-43e7-9ee3-9a73d8073ee0",
        "colab": {
          "base_uri": "https://localhost:8080/"
        }
      },
      "execution_count": 7,
      "outputs": [
        {
          "output_type": "execute_result",
          "data": {
            "text/plain": [
              "40"
            ]
          },
          "metadata": {},
          "execution_count": 7
        }
      ]
    },
    {
      "cell_type": "markdown",
      "metadata": {
        "id": "9WFVeg38Q03Z"
      },
      "source": [
        "> ##### Você tem alguma ideia de como fazer essa contagem sem usar o count()?"
      ]
    },
    {
      "cell_type": "code",
      "source": [
        "len(music)"
      ],
      "metadata": {
        "id": "h0aZE1XlsVuW",
        "outputId": "bbcfb2f2-d202-4647-b22a-f40eb3cdd022",
        "colab": {
          "base_uri": "https://localhost:8080/"
        }
      },
      "execution_count": 18,
      "outputs": [
        {
          "output_type": "execute_result",
          "data": {
            "text/plain": [
              "408"
            ]
          },
          "metadata": {},
          "execution_count": 18
        }
      ]
    },
    {
      "cell_type": "code",
      "source": [
        "counts = 0 \n",
        "for i in music:\n",
        "  if i == 'e':\n",
        "    counts = counts + 1\n",
        "print(counts)\n"
      ],
      "metadata": {
        "id": "RgopVpZqsYjP",
        "outputId": "3eb9e3c0-417e-42dc-d312-c04335f48c7c",
        "colab": {
          "base_uri": "https://localhost:8080/"
        }
      },
      "execution_count": 26,
      "outputs": [
        {
          "output_type": "stream",
          "name": "stdout",
          "text": [
            "40\n"
          ]
        }
      ]
    },
    {
      "cell_type": "markdown",
      "metadata": {
        "id": "w8lNtLOXQ03a"
      },
      "source": [
        "3) Faça um programa que leia 5 números e informe o maior número."
      ]
    },
    {
      "cell_type": "code",
      "execution_count": 36,
      "metadata": {
        "id": "aZFgjG7XQ03b",
        "outputId": "3562ade5-db12-483a-ea30-621e1459d335",
        "colab": {
          "base_uri": "https://localhost:8080/"
        }
      },
      "outputs": [
        {
          "output_type": "stream",
          "name": "stdout",
          "text": [
            "Insira cinco numeros:14689\n",
            "9 é o maior número\n"
          ]
        }
      ],
      "source": [
        "numbers =input('Insira cinco numeros:')\n",
        "h = 0\n",
        "for i in numbers:\n",
        "  if int(i) > h:\n",
        "    h = int(i)\n",
        "print(h, 'é o maior número')"
      ]
    },
    {
      "cell_type": "markdown",
      "metadata": {
        "id": "Z0lFYiZnQ03b"
      },
      "source": [
        "\n",
        "4) Faça um programa que receba dois números inteiros e gere os números inteiros que estão no intervalo compreendido por eles.\n"
      ]
    },
    {
      "cell_type": "code",
      "execution_count": 39,
      "metadata": {
        "id": "1HVQJzE4Q03c",
        "outputId": "e4c5991f-5cb6-4233-d2ab-a004d771e47d",
        "colab": {
          "base_uri": "https://localhost:8080/"
        }
      },
      "outputs": [
        {
          "output_type": "stream",
          "name": "stdout",
          "text": [
            "Insira um número inteiro:1\n",
            "Insira outro número inteiro maior:9\n",
            "2\n",
            "3\n",
            "4\n",
            "5\n",
            "6\n",
            "7\n",
            "8\n"
          ]
        }
      ],
      "source": [
        "num1 = int(input('Insira um número inteiro:'))\n",
        "num2 = int(input('Insira outro número inteiro maior:'))\n",
        "i = num1 + 1\n",
        "while i < num2:\n",
        "  print(i)\n",
        "  i = i + 1"
      ]
    },
    {
      "cell_type": "markdown",
      "metadata": {
        "id": "8A32RMdKQ03d"
      },
      "source": [
        "995) Altere o programa anterior para mostrar no final a soma dos números."
      ]
    },
    {
      "cell_type": "code",
      "execution_count": 41,
      "metadata": {
        "id": "yYzwOC-SQ03d",
        "outputId": "6a8fa268-3d89-4c3e-d2dc-49d7e497a227",
        "colab": {
          "base_uri": "https://localhost:8080/"
        }
      },
      "outputs": [
        {
          "output_type": "stream",
          "name": "stdout",
          "text": [
            "Insira um número inteiro:1\n",
            "Insira outro número inteiro maior:9\n",
            "2\n",
            "3\n",
            "4\n",
            "5\n",
            "6\n",
            "7\n",
            "8\n",
            "A soma dos inteiros é: 35\n"
          ]
        }
      ],
      "source": [
        "num1 = int(input('Insira um número inteiro:'))\n",
        "num2 = int(input('Insira outro número inteiro maior:'))\n",
        "i = num1 + 1\n",
        "soma = 0\n",
        "while i < num2:\n",
        "  print(i)\n",
        "  soma = soma + i\n",
        "  i = i + 1\n",
        "print('A soma dos inteiros é:',soma)"
      ]
    },
    {
      "cell_type": "markdown",
      "metadata": {
        "id": "6qRKovIvQ03e"
      },
      "source": [
        "6) Faça um programa que exiba as tabuadas de 1 até 10 no formato: \"2 x 3 = 6\", (utilize dois comandos for)"
      ]
    },
    {
      "cell_type": "code",
      "execution_count": 48,
      "metadata": {
        "id": "IbeT55HXQ03e",
        "outputId": "4b119f33-4cd5-4d3b-b8cd-c6536d9d869c",
        "colab": {
          "base_uri": "https://localhost:8080/"
        }
      },
      "outputs": [
        {
          "output_type": "stream",
          "name": "stdout",
          "text": [
            "1 x 1 = 1\n",
            "1 x 2 = 2\n",
            "1 x 3 = 3\n",
            "1 x 4 = 4\n",
            "1 x 5 = 5\n",
            "1 x 6 = 6\n",
            "1 x 7 = 7\n",
            "1 x 8 = 8\n",
            "1 x 9 = 9\n",
            "1 x 10 = 10\n",
            "2 x 1 = 2\n",
            "2 x 2 = 4\n",
            "2 x 3 = 6\n",
            "2 x 4 = 8\n",
            "2 x 5 = 10\n",
            "2 x 6 = 12\n",
            "2 x 7 = 14\n",
            "2 x 8 = 16\n",
            "2 x 9 = 18\n",
            "2 x 10 = 20\n",
            "3 x 1 = 3\n",
            "3 x 2 = 6\n",
            "3 x 3 = 9\n",
            "3 x 4 = 12\n",
            "3 x 5 = 15\n",
            "3 x 6 = 18\n",
            "3 x 7 = 21\n",
            "3 x 8 = 24\n",
            "3 x 9 = 27\n",
            "3 x 10 = 30\n",
            "4 x 1 = 4\n",
            "4 x 2 = 8\n",
            "4 x 3 = 12\n",
            "4 x 4 = 16\n",
            "4 x 5 = 20\n",
            "4 x 6 = 24\n",
            "4 x 7 = 28\n",
            "4 x 8 = 32\n",
            "4 x 9 = 36\n",
            "4 x 10 = 40\n",
            "5 x 1 = 5\n",
            "5 x 2 = 10\n",
            "5 x 3 = 15\n",
            "5 x 4 = 20\n",
            "5 x 5 = 25\n",
            "5 x 6 = 30\n",
            "5 x 7 = 35\n",
            "5 x 8 = 40\n",
            "5 x 9 = 45\n",
            "5 x 10 = 50\n",
            "6 x 1 = 6\n",
            "6 x 2 = 12\n",
            "6 x 3 = 18\n",
            "6 x 4 = 24\n",
            "6 x 5 = 30\n",
            "6 x 6 = 36\n",
            "6 x 7 = 42\n",
            "6 x 8 = 48\n",
            "6 x 9 = 54\n",
            "6 x 10 = 60\n",
            "7 x 1 = 7\n",
            "7 x 2 = 14\n",
            "7 x 3 = 21\n",
            "7 x 4 = 28\n",
            "7 x 5 = 35\n",
            "7 x 6 = 42\n",
            "7 x 7 = 49\n",
            "7 x 8 = 56\n",
            "7 x 9 = 63\n",
            "7 x 10 = 70\n",
            "8 x 1 = 8\n",
            "8 x 2 = 16\n",
            "8 x 3 = 24\n",
            "8 x 4 = 32\n",
            "8 x 5 = 40\n",
            "8 x 6 = 48\n",
            "8 x 7 = 56\n",
            "8 x 8 = 64\n",
            "8 x 9 = 72\n",
            "8 x 10 = 80\n",
            "9 x 1 = 9\n",
            "9 x 2 = 18\n",
            "9 x 3 = 27\n",
            "9 x 4 = 36\n",
            "9 x 5 = 45\n",
            "9 x 6 = 54\n",
            "9 x 7 = 63\n",
            "9 x 8 = 72\n",
            "9 x 9 = 81\n",
            "9 x 10 = 90\n",
            "10 x 1 = 10\n",
            "10 x 2 = 20\n",
            "10 x 3 = 30\n",
            "10 x 4 = 40\n",
            "10 x 5 = 50\n",
            "10 x 6 = 60\n",
            "10 x 7 = 70\n",
            "10 x 8 = 80\n",
            "10 x 9 = 90\n",
            "10 x 10 = 100\n"
          ]
        }
      ],
      "source": [
        "num = list(range(1,11,1))\n",
        "for i in num:\n",
        "  for j in num:\n",
        "    z = i * j\n",
        "    print (i,\"x\",j,\"=\",z)"
      ]
    },
    {
      "cell_type": "code",
      "source": [],
      "metadata": {
        "id": "tsH0HuaWxLfx",
        "outputId": "7262d351-76ab-4917-f81a-48251136759a",
        "colab": {
          "base_uri": "https://localhost:8080/"
        }
      },
      "execution_count": 45,
      "outputs": [
        {
          "output_type": "execute_result",
          "data": {
            "text/plain": [
              "[1, 2, 3, 4, 5, 6, 7, 8, 9]"
            ]
          },
          "metadata": {},
          "execution_count": 45
        }
      ]
    },
    {
      "cell_type": "markdown",
      "metadata": {
        "id": "vBP-rcwbQ03e"
      },
      "source": [
        "---\n",
        "\n",
        "## Quais são as outras formas de praticar esses conceitos?\n",
        "\n",
        "<img src=\"https://media.giphy.com/media/3gPLPJzFi8a3vhLTtw/giphy.gif\" align=\"left\">"
      ]
    },
    {
      "cell_type": "markdown",
      "metadata": {
        "id": "upAV0kOiQ03f"
      },
      "source": [
        "<Adicionar atividade de sua preferência para aplicação dos conceitos>"
      ]
    }
  ],
  "metadata": {
    "kernelspec": {
      "display_name": "Python 3",
      "language": "python",
      "name": "python3"
    },
    "language_info": {
      "codemirror_mode": {
        "name": "ipython",
        "version": 3
      },
      "file_extension": ".py",
      "mimetype": "text/x-python",
      "name": "python",
      "nbconvert_exporter": "python",
      "pygments_lexer": "ipython3",
      "version": "3.8.5"
    },
    "colab": {
      "provenance": []
    }
  },
  "nbformat": 4,
  "nbformat_minor": 0
}