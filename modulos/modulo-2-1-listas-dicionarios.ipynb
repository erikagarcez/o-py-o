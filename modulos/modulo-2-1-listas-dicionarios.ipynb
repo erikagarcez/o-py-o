{
  "cells": [
    {
      "cell_type": "markdown",
      "metadata": {
        "id": "ptsZQYVsyPZ6"
      },
      "source": [
        "<img src=\"https://github.com/erikagarcez/o-py-o/blob/master/imagens/5.png?raw=1\">\n",
        "\n",
        "## Revisando o conteúdo da semana!"
      ]
    },
    {
      "cell_type": "markdown",
      "metadata": {
        "id": "vup9b8Q3yPaA"
      },
      "source": [
        "1) Faça um programa que inicialize uma lista vazia e solicite a usuária 3 nomes de cidades, um por vez, cada vez que a usuária digitar um nome, o programa deve incluir este nome na lista de cidades."
      ]
    },
    {
      "cell_type": "code",
      "execution_count": 9,
      "metadata": {
        "id": "tn97NxijyPaA",
        "outputId": "82abfe7d-863c-4ea3-9e54-504018c51b26",
        "colab": {
          "base_uri": "https://localhost:8080/"
        }
      },
      "outputs": [
        {
          "output_type": "stream",
          "name": "stdout",
          "text": [
            "Insira o nome de uma cidade:ssa\n",
            "Insira o nome de uma cidade:bh\n",
            "Insira o nome de uma cidade:sp\n",
            "['ssa', 'bh', 'sp']\n"
          ]
        }
      ],
      "source": [
        "cidades = []\n",
        "cid1 = input(\"Insira o nome de uma cidade:\")\n",
        "cidades = cidades + [cid1]\n",
        "cid2 = input(\"Insira o nome de uma cidade:\")\n",
        "cidades = cidades + [cid2]\n",
        "cid3 = input(\"Insira o nome de uma cidade:\")\n",
        "cidades = cidades + [cid3]\n",
        "print(cidades)"
      ]
    },
    {
      "cell_type": "markdown",
      "metadata": {
        "id": "4-OdQ4tOyPaB"
      },
      "source": [
        "2) Faça um programa que inicialize uma lista com vários números diferentes, depois disso, solicite ao usuário um número, verifique se o número está ou não na lista e exiba uma mensagem notificando o usuário do resultado."
      ]
    },
    {
      "cell_type": "code",
      "execution_count": 12,
      "metadata": {
        "id": "v_amU54FyPaC",
        "outputId": "1de46839-8194-408c-b48a-43a1b468abf9",
        "colab": {
          "base_uri": "https://localhost:8080/"
        }
      },
      "outputs": [
        {
          "output_type": "stream",
          "name": "stdout",
          "text": [
            "Insira um número inteiro:9\n",
            "Número 9 não está na lista\n"
          ]
        }
      ],
      "source": [
        "lista = [1,0,6,7,2,5,8]\n",
        "number = int(input('Insira um número inteiro:'))\n",
        "if number in lista:\n",
        "  print('Número',number,'está na lista')\n",
        "else:\n",
        "  print('Número',number,'não está na lista')\n"
      ]
    },
    {
      "cell_type": "markdown",
      "metadata": {
        "id": "OFKUSj_tyPaC"
      },
      "source": [
        "3) Escreva uma função chamada `has_duplicates` que receba uma lista e retorne **True** se houver algum elemento que apareça mais de uma vez. Ela não deve modificar a lista original."
      ]
    },
    {
      "cell_type": "code",
      "execution_count": 21,
      "metadata": {
        "id": "SH22DTIZyPaC",
        "outputId": "f8abcb23-06ba-4ed9-f3c4-d7f0fc454a7c",
        "colab": {
          "base_uri": "https://localhost:8080/"
        }
      },
      "outputs": [
        {
          "output_type": "stream",
          "name": "stdout",
          "text": [
            "Há valores duplicados -  True\n"
          ]
        }
      ],
      "source": [
        "lista = [1,0,6,7,2,5,8,5,7,9,4,1,8]\n",
        "def has_duplicates(list_numbers):\n",
        "  for i in list_numbers:\n",
        "    if list_numbers.count(i) > 1:\n",
        "      print('Há valores duplicados - ',format(True))\n",
        "      break\n",
        "\n",
        "has_duplicates(lista)"
      ]
    },
    {
      "cell_type": "markdown",
      "metadata": {
        "id": "lb2D3o8NyPaD"
      },
      "source": [
        "4 - Escreva um programa para armazenar uma agenda de telefones em um dicionário. Cada pessoa pode ter um ou mais telefones e a chave do dicionário é o nome da pessoa. Seu programa deve ter as seguintes funções:\n",
        "\n",
        "- incluir_novo_nome – essa função acrescenta um novo nome na agenda, com um ou mais telefones. Ela deve receber como argumentos o nome e os telefones. ­\n",
        "- incluir_telefone – essa função acrescenta um telefone em um nome existente na agenda. Caso o nome não exista na agenda, você deve perguntar se a pessoa deseja incluí-­lo. Caso a resposta seja afirmativa, use a função anterior para incluir o novo nome. \n",
        "- excluir_telefone – essa função exclui um telefone de uma pessoa que já está na agenda. Se a pessoa tiver apenas um telefone, ela deve ser excluída da agenda. ­\n",
        "- excluir_nome – essa função exclui uma pessoa da agenda. ­\n",
        "- consultar_telefone – essa função retorna os telefones de uma pessoa na agenda."
      ]
    },
    {
      "cell_type": "code",
      "execution_count": 34,
      "metadata": {
        "id": "KzJvLPOZyPaE",
        "outputId": "0ebccf51-51a1-4635-ac04-6b8a50c5f920",
        "colab": {
          "base_uri": "https://localhost:8080/"
        }
      },
      "outputs": [
        {
          "output_type": "stream",
          "name": "stdout",
          "text": [
            "\n",
            "Cadastrando novo contato:\n",
            "Digite nome:Erika\n",
            "\n",
            "Digite um telefone por vez. Para sair da adição de telefone digite 0.\n",
            "Telefone:719988776654\n",
            "Telefone:7132456789\n",
            "Telefone:0\n",
            "Contato cadastrado com sucesso\n"
          ]
        }
      ],
      "source": [
        "agenda = dict()\n",
        "def incluir_novo_nome():\n",
        "  print('\\nCadastrando novo contato:')\n",
        "  nome = input('Digite nome:')\n",
        "  list_tel = []\n",
        "  print('\\nDigite um telefone por vez. Para sair da adição de telefone digite 0.')\n",
        "  while(True):\n",
        "    tel = input('Telefone:')\n",
        "    if tel == '0':\n",
        "      break\n",
        "    list_tel.append(tel)\n",
        "  agenda[nome] = list_tel\n",
        "  print('Contato cadastrado com sucesso')\n",
        "\n",
        "incluir_novo_nome()"
      ]
    },
    {
      "cell_type": "code",
      "source": [
        "def incluir_telefone():\n",
        "  print('\\nAdicionando telefone:')\n",
        "  nome = input('Digite o nome do contato:')\n",
        "  if agenda.get(nome) is None:\n",
        "    print('Contato não encontrado. Gostaria de cadastrar?')\n",
        "    resposta = input('Informe Sim ou Não:')\n",
        "    if resposta == 'Sim':\n",
        "      incluir_novo_nome()\n",
        "      return\n",
        "\n",
        "  list_tel = agenda.get(nome)\n",
        "  tel = input('Digite novo telefone:')\n",
        "  list_tel.append(tel)\n",
        "  agenda[nome] = list_tel\n",
        "  print('Telefone adicionado com sucesso')\n",
        "\n",
        "incluir_telefone()"
      ],
      "metadata": {
        "id": "Xd-fF29s6uPI",
        "outputId": "3700399f-9dea-4ff5-bd62-9518c73cabb2",
        "colab": {
          "base_uri": "https://localhost:8080/"
        }
      },
      "execution_count": 41,
      "outputs": [
        {
          "output_type": "stream",
          "name": "stdout",
          "text": [
            "\n",
            "Adicionando telefone:\n",
            "Digite o nome do contato:Erika\n",
            "Digite novo telefone:7122222222\n",
            "Telefone adicionado com sucesso\n"
          ]
        }
      ]
    },
    {
      "cell_type": "code",
      "source": [
        "def excluir_telefone():\n",
        "  print('\\Excluindo telefone de contato:')\n",
        "  nome = input('Digite o nome do contato:')\n",
        "  if agenda.get(nome) is None:\n",
        "    print('Contato não encontrado.')\n",
        "    return\n",
        "  \n",
        "  list_tel = agenda.get(nome)\n",
        "  print(f'\\n{nome} tem os seguintes telefones cadastrados: {agenda[nome]}')\n",
        "  exc_tel = input('Qual telefone deseja excluir?')\n",
        "  list_tel.remove(exc_tel)\n",
        "  agenda[nome] = list_tel\n",
        "  print(f'Telefone deletado com sucesso! A lista atualizada de {nome} é \\n {agenda[nome]}')\n",
        "\n",
        "excluir_telefone()\n"
      ],
      "metadata": {
        "id": "FBhPX_Wy8ZLM",
        "outputId": "bd87230e-6310-4785-8fef-64616eaa0a52",
        "colab": {
          "base_uri": "https://localhost:8080/"
        }
      },
      "execution_count": 47,
      "outputs": [
        {
          "output_type": "stream",
          "name": "stdout",
          "text": [
            "\\Excluindo telefone de contato:\n",
            "Digite o nome do contato:Erika\n",
            "\n",
            "Erika tem os seguintes telefones cadastrados: ['719988776654', '7132456789', '7122222222']\n",
            "Qual telefone deseja excluir?7122222222\n",
            "Telefone deletado com sucesso! A lista atualizada de Erika é \n",
            " ['719988776654', '7132456789']\n"
          ]
        }
      ]
    },
    {
      "cell_type": "code",
      "source": [
        "def excluir_nome():\n",
        "  print('Excluindo nome:')\n",
        "  nome = input('Qual contato você gostaria de excluir?')\n",
        "  if agenda.get(nome) is None:\n",
        "    print('Contato não encontrado.')\n",
        "  agenda.pop(nome)\n",
        "  print('Contato excluído com sucesso.')\n",
        "\n",
        "excluir_nome()"
      ],
      "metadata": {
        "id": "67Jnaetg9_WD",
        "outputId": "69398b04-7471-40f0-e22e-7e991c0c15bf",
        "colab": {
          "base_uri": "https://localhost:8080/"
        }
      },
      "execution_count": 51,
      "outputs": [
        {
          "output_type": "stream",
          "name": "stdout",
          "text": [
            "Excluindo nome:\n",
            "Qual contato você gostaria de excluir?Breno\n",
            "Contato excluído com sucesso.\n"
          ]
        }
      ]
    },
    {
      "cell_type": "code",
      "source": [
        "def consulta_telefone():\n",
        "  print('Consultando contatos:')\n",
        "  nome = input('Qual o contato você gostaria de consultar?')\n",
        "  print(f'Os telefones cadastrados do contato {nome} são:\\n {agenda[nome]}')\n",
        "\n",
        "consulta_telefone()"
      ],
      "metadata": {
        "id": "r4etIt_0-1xs",
        "outputId": "c22ea8ca-b3ad-42d3-ffb2-182b26f96b85",
        "colab": {
          "base_uri": "https://localhost:8080/"
        }
      },
      "execution_count": 56,
      "outputs": [
        {
          "output_type": "stream",
          "name": "stdout",
          "text": [
            "Consultando contatos:\n",
            "Qual o contato você gostaria de consultar?Erika\n",
            "Os telefones cadastrados do contato Erika são:\n",
            " ['719988776654', '7132456789']\n"
          ]
        }
      ]
    },
    {
      "cell_type": "markdown",
      "metadata": {
        "id": "Ws0qWqa1yPaF"
      },
      "source": [
        "---\n",
        "\n",
        "## Quais são as outras formas de praticar esses conceitos?\n",
        "\n",
        "<img src=\"https://media.giphy.com/media/0AA2LiChVmvxt8v1HB/giphy.gif\" align=\"left\">"
      ]
    },
    {
      "cell_type": "markdown",
      "metadata": {
        "id": "L6Aq5cocyPaF"
      },
      "source": [
        "<Adicionar atividade de sua preferência para aplicação dos conceitos>"
      ]
    }
  ],
  "metadata": {
    "kernelspec": {
      "display_name": "Python 3",
      "language": "python",
      "name": "python3"
    },
    "language_info": {
      "codemirror_mode": {
        "name": "ipython",
        "version": 3
      },
      "file_extension": ".py",
      "mimetype": "text/x-python",
      "name": "python",
      "nbconvert_exporter": "python",
      "pygments_lexer": "ipython3",
      "version": "3.8.5"
    },
    "colab": {
      "provenance": []
    }
  },
  "nbformat": 4,
  "nbformat_minor": 0
}