{
  "cells": [
    {
      "cell_type": "markdown",
      "metadata": {
        "id": "bIlHGrRSAJcP"
      },
      "source": [
        "<img src=\"https://github.com/erikagarcez/o-py-o/blob/master/imagens/8.png?raw=1\">\n",
        "\n",
        "## Revisando o conteúdo da semana!"
      ]
    },
    {
      "cell_type": "markdown",
      "metadata": {
        "id": "KvybJyQiAJcR"
      },
      "source": [
        "1) Classe Quadrado: Crie uma classe que modele um quadrado:\n",
        "\n",
        "- Atributos: tamanho do lado\n",
        "- Métodos: mudar valor do lado, retornar valor do lado e calcular área;"
      ]
    },
    {
      "cell_type": "code",
      "execution_count": 5,
      "metadata": {
        "id": "h7quyNleAJcR"
      },
      "outputs": [],
      "source": [
        "class quadrado:\n",
        "  side = 3"
      ]
    },
    {
      "cell_type": "code",
      "source": [
        "quadrado"
      ],
      "metadata": {
        "id": "u0patt4eFIXk",
        "outputId": "efa35456-aa89-42a9-ada4-4a446eb49faf",
        "colab": {
          "base_uri": "https://localhost:8080/"
        }
      },
      "execution_count": 2,
      "outputs": [
        {
          "output_type": "execute_result",
          "data": {
            "text/plain": [
              "__main__.quadrado"
            ]
          },
          "metadata": {},
          "execution_count": 2
        }
      ]
    },
    {
      "cell_type": "code",
      "source": [
        "box = quadrado()\n",
        "box.side"
      ],
      "metadata": {
        "id": "I5LDUJkhClO-",
        "outputId": "8501326f-e091-4c7b-98c3-b48f1659bf3c",
        "colab": {
          "base_uri": "https://localhost:8080/"
        }
      },
      "execution_count": 7,
      "outputs": [
        {
          "output_type": "execute_result",
          "data": {
            "text/plain": [
              "3"
            ]
          },
          "metadata": {},
          "execution_count": 7
        }
      ]
    },
    {
      "cell_type": "code",
      "source": [
        "box.side = box.side + 2\n",
        "box.side"
      ],
      "metadata": {
        "id": "r2br29tDDI1D",
        "outputId": "42ecd2e0-ba59-4f16-bce9-d509ab559f08",
        "colab": {
          "base_uri": "https://localhost:8080/"
        }
      },
      "execution_count": 8,
      "outputs": [
        {
          "output_type": "execute_result",
          "data": {
            "text/plain": [
              "5"
            ]
          },
          "metadata": {},
          "execution_count": 8
        }
      ]
    },
    {
      "cell_type": "code",
      "source": [
        "def calcular_area(quad):\n",
        "  area = box.side * box.side\n",
        "  return area \n",
        "\n",
        "calcular_area(box)"
      ],
      "metadata": {
        "id": "NbXIFNg5DRJq",
        "outputId": "c38399a3-823b-4290-f932-582d23687c27",
        "colab": {
          "base_uri": "https://localhost:8080/"
        }
      },
      "execution_count": 9,
      "outputs": [
        {
          "output_type": "execute_result",
          "data": {
            "text/plain": [
              "25"
            ]
          },
          "metadata": {},
          "execution_count": 9
        }
      ]
    },
    {
      "cell_type": "markdown",
      "metadata": {
        "id": "midKoseIAJcS"
      },
      "source": [
        "2) Classe Bichinho Virtual - Crie uma classe que modele um Tamagushi (Bichinho Eletrônico):\n",
        "\n",
        "- Atributos: nome, fome, saúde e idade. \n",
        "- Métodos: alterar e retornar nome; alterar e retornar fome; alterar e retornar saúde; alterar e retornar idade.\n",
        "    - **Obs: Existe mais uma informação que devemos levar em consideração, o Humor do nosso tamagushi**, este humor é uma combinação entre os atributos Fome e Saúde, ou seja, um campo calculado, então não devemos criar um atributo para armazenar esta informação por que ela pode ser calculada a qualquer momento."
      ]
    },
    {
      "cell_type": "code",
      "execution_count": 16,
      "metadata": {
        "id": "Oo02qMVGAJcT"
      },
      "outputs": [],
      "source": [
        "class tamagushi:\n",
        "  def __init__(self,nome,fome,saude,idade):\n",
        "    self.nome = nome\n",
        "    self.idade = idade\n",
        "    self.saude = saude\n",
        "    self.fome = fome\n",
        "\n",
        "  def alterar_nome(self, novoNome):\n",
        "    self.nome = novoNome\n",
        "\n",
        "  def get_nome(self):\n",
        "    return self.nome\n",
        "\n",
        "  def alterar_saude(self, novaSaude):\n",
        "    self.saude = novaSaude\n",
        "\n",
        "  def get_saude(self):\n",
        "    return self.saude\n",
        "\n",
        "  def get_humor(self):\n",
        "    if self.fome == 'esfomeado' or self.saude != 'saudavel':\n",
        "      return 'puto da vida'\n",
        "    else:\n",
        "      return 'to de boa'\n",
        "\n",
        "  def imprimir(self):\n",
        "    print(self.nome, 'tem', self.idade, 'anos, está', self.fome, 'e', self.saude)"
      ]
    },
    {
      "cell_type": "code",
      "source": [
        "fofo = tamagushi('fofo','satisfeito','saudavel',1)\n",
        "fofo.get_nome()"
      ],
      "metadata": {
        "id": "RkdgYRIrD2XU",
        "outputId": "5df79991-7e69-4632-bf2c-889c2131c494",
        "colab": {
          "base_uri": "https://localhost:8080/",
          "height": 35
        }
      },
      "execution_count": 21,
      "outputs": [
        {
          "output_type": "execute_result",
          "data": {
            "text/plain": [
              "'fofo'"
            ],
            "application/vnd.google.colaboratory.intrinsic+json": {
              "type": "string"
            }
          },
          "metadata": {},
          "execution_count": 21
        }
      ]
    },
    {
      "cell_type": "markdown",
      "metadata": {
        "id": "5Ks1FNC0AJcT"
      },
      "source": [
        "---    \n",
        "    \n",
        "## Quais são as outras formas de praticar esses conceitos?\n",
        "\n",
        "<img src=\"https://media.giphy.com/media/45dPIJaV9AYOZUZ0nQ/giphy.gif\" align=\"left\">\n"
      ]
    },
    {
      "cell_type": "markdown",
      "metadata": {
        "id": "KP1v0lD1AJcT"
      },
      "source": [
        "<Adicionar atividade de sua preferência para aplicação dos conceitos>"
      ]
    }
  ],
  "metadata": {
    "kernelspec": {
      "display_name": "Python 3",
      "language": "python",
      "name": "python3"
    },
    "language_info": {
      "codemirror_mode": {
        "name": "ipython",
        "version": 3
      },
      "file_extension": ".py",
      "mimetype": "text/x-python",
      "name": "python",
      "nbconvert_exporter": "python",
      "pygments_lexer": "ipython3",
      "version": "3.8.5"
    },
    "colab": {
      "provenance": []
    }
  },
  "nbformat": 4,
  "nbformat_minor": 0
}