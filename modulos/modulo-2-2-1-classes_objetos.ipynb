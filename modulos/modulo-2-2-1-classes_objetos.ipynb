{
  "cells": [
    {
      "cell_type": "markdown",
      "metadata": {
        "id": "bIlHGrRSAJcP"
      },
      "source": [
        "<img src=\"https://github.com/erikagarcez/o-py-o/blob/master/imagens/8.png?raw=1\">\n",
        "\n",
        "## Revisando o conteúdo da semana!"
      ]
    },
    {
      "cell_type": "markdown",
      "metadata": {
        "id": "KvybJyQiAJcR"
      },
      "source": [
        "1) Classe Quadrado: Crie uma classe que modele um quadrado:\n",
        "\n",
        "- Atributos: tamanho do lado\n",
        "- Métodos: mudar valor do lado, retornar valor do lado e calcular área;"
      ]
    },
    {
      "cell_type": "code",
      "execution_count": null,
      "metadata": {
        "id": "h7quyNleAJcR"
      },
      "outputs": [],
      "source": [
        "class quadrado:\n",
        "  side = 3"
      ]
    },
    {
      "cell_type": "code",
      "source": [
        "quadrado"
      ],
      "metadata": {
        "colab": {
          "base_uri": "https://localhost:8080/"
        },
        "id": "u0patt4eFIXk",
        "outputId": "efa35456-aa89-42a9-ada4-4a446eb49faf"
      },
      "execution_count": null,
      "outputs": [
        {
          "output_type": "execute_result",
          "data": {
            "text/plain": [
              "__main__.quadrado"
            ]
          },
          "metadata": {},
          "execution_count": 2
        }
      ]
    },
    {
      "cell_type": "code",
      "source": [
        "box = quadrado()\n",
        "box.side"
      ],
      "metadata": {
        "colab": {
          "base_uri": "https://localhost:8080/"
        },
        "id": "I5LDUJkhClO-",
        "outputId": "8501326f-e091-4c7b-98c3-b48f1659bf3c"
      },
      "execution_count": null,
      "outputs": [
        {
          "output_type": "execute_result",
          "data": {
            "text/plain": [
              "3"
            ]
          },
          "metadata": {},
          "execution_count": 7
        }
      ]
    },
    {
      "cell_type": "code",
      "source": [
        "box.side = box.side + 2\n",
        "box.side"
      ],
      "metadata": {
        "colab": {
          "base_uri": "https://localhost:8080/"
        },
        "id": "r2br29tDDI1D",
        "outputId": "42ecd2e0-ba59-4f16-bce9-d509ab559f08"
      },
      "execution_count": null,
      "outputs": [
        {
          "output_type": "execute_result",
          "data": {
            "text/plain": [
              "5"
            ]
          },
          "metadata": {},
          "execution_count": 8
        }
      ]
    },
    {
      "cell_type": "code",
      "source": [
        "def calcular_area(quad):\n",
        "  area = box.side * box.side\n",
        "  return area \n",
        "\n",
        "calcular_area(box)"
      ],
      "metadata": {
        "colab": {
          "base_uri": "https://localhost:8080/"
        },
        "id": "NbXIFNg5DRJq",
        "outputId": "c38399a3-823b-4290-f932-582d23687c27"
      },
      "execution_count": null,
      "outputs": [
        {
          "output_type": "execute_result",
          "data": {
            "text/plain": [
              "25"
            ]
          },
          "metadata": {},
          "execution_count": 9
        }
      ]
    },
    {
      "cell_type": "markdown",
      "metadata": {
        "id": "midKoseIAJcS"
      },
      "source": [
        "2) Classe Bichinho Virtual - Crie uma classe que modele um Tamagushi (Bichinho Eletrônico):\n",
        "\n",
        "- Atributos: nome, fome, saúde e idade. \n",
        "- Métodos: alterar e retornar nome; alterar e retornar fome; alterar e retornar saúde; alterar e retornar idade.\n",
        "    - **Obs: Existe mais uma informação que devemos levar em consideração, o Humor do nosso tamagushi**, este humor é uma combinação entre os atributos Fome e Saúde, ou seja, um campo calculado, então não devemos criar um atributo para armazenar esta informação por que ela pode ser calculada a qualquer momento."
      ]
    },
    {
      "cell_type": "code",
      "execution_count": 3,
      "metadata": {
        "id": "Oo02qMVGAJcT"
      },
      "outputs": [],
      "source": [
        "class tamagushi:\n",
        "  def __init__(self,nome,fome,saude,idade):\n",
        "    self.nome = nome\n",
        "    self.idade = idade\n",
        "    self.saude = saude\n",
        "    self.fome = fome\n",
        "\n",
        "  def alterar_nome(self, novoNome):\n",
        "    self.nome = novoNome\n",
        "\n",
        "  def get_nome(self):\n",
        "    return self.nome\n",
        "\n",
        "  def alterar_saude(self, novaSaude):\n",
        "    self.saude = novaSaude\n",
        "\n",
        "  def get_saude(self):\n",
        "    return self.saude\n",
        "\n",
        "  def get_humor(self):\n",
        "    if self.fome == 'esfomeado' or self.saude != 'saudavel':\n",
        "      return 'puto da vida'\n",
        "    else:\n",
        "      return 'to de boa'\n",
        "\n",
        "  def imprimir(self):\n",
        "    print(self.nome, 'tem', self.idade, 'anos, está', self.fome, 'e', self.saude)"
      ]
    },
    {
      "cell_type": "code",
      "source": [
        "fofo = tamagushi('fofo','satisfeito','saudavel',1)\n",
        "fofo.get_nome()"
      ],
      "metadata": {
        "colab": {
          "base_uri": "https://localhost:8080/",
          "height": 35
        },
        "id": "RkdgYRIrD2XU",
        "outputId": "5efb1946-f488-4b5c-8e38-698b77c4a603"
      },
      "execution_count": 4,
      "outputs": [
        {
          "output_type": "execute_result",
          "data": {
            "text/plain": [
              "'fofo'"
            ],
            "application/vnd.google.colaboratory.intrinsic+json": {
              "type": "string"
            }
          },
          "metadata": {},
          "execution_count": 4
        }
      ]
    },
    {
      "cell_type": "code",
      "source": [
        "# imprimindo os bichinho\n",
        "pets = []\n",
        "pets.append(tamagushi('lulu', 'esfomeado', 'doente', 2))\n",
        "pets.append(tamagushi('melissa', 'de barriga cheia', 'doente', 5))\n",
        "pets.append(tamagushi('lola', 'de barriga cheia', 'saudavel', 2))\n",
        "pets.append(tamagushi('nina', 'esfomeado', 'saudavel', 5))\n",
        "\n",
        "print('Meus pets são: ')\n",
        "for pet in pets:\n",
        "  pet.imprimir()"
      ],
      "metadata": {
        "colab": {
          "base_uri": "https://localhost:8080/"
        },
        "id": "0d876DTmIFn3",
        "outputId": "204230ea-48d8-4617-afe0-dcd8c3d033fa"
      },
      "execution_count": 5,
      "outputs": [
        {
          "output_type": "stream",
          "name": "stdout",
          "text": [
            "Meus pets são: \n",
            "lulu tem 2 anos, está esfomeado e doente\n",
            "melissa tem 5 anos, está de barriga cheia e doente\n",
            "lola tem 2 anos, está de barriga cheia e saudavel\n",
            "nina tem 5 anos, está esfomeado e saudavel\n"
          ]
        }
      ]
    },
    {
      "cell_type": "code",
      "source": [
        "# usando função de alterar o nome do bichinho\n",
        "pets[0].alterar_nome('cascatinha')\n",
        "pets[0].get_nome()"
      ],
      "metadata": {
        "colab": {
          "base_uri": "https://localhost:8080/",
          "height": 35
        },
        "id": "jobu1N5EISDY",
        "outputId": "d2d2a057-ec34-43da-dcbf-b0e8561fe7e6"
      },
      "execution_count": 6,
      "outputs": [
        {
          "output_type": "execute_result",
          "data": {
            "text/plain": [
              "'cascatinha'"
            ],
            "application/vnd.google.colaboratory.intrinsic+json": {
              "type": "string"
            }
          },
          "metadata": {},
          "execution_count": 6
        }
      ]
    },
    {
      "cell_type": "code",
      "source": [
        "# usando a função para calcular o humor\n",
        "print('humor dos pets: ')\n",
        "for pet in pets:\n",
        "  print(pet.get_humor())"
      ],
      "metadata": {
        "colab": {
          "base_uri": "https://localhost:8080/"
        },
        "id": "hhLzoVvsITyr",
        "outputId": "4bcc3bed-245b-4985-dc8f-4b6a87bbea78"
      },
      "execution_count": 7,
      "outputs": [
        {
          "output_type": "stream",
          "name": "stdout",
          "text": [
            "humor dos pets: \n",
            "puto da vida\n",
            "puto da vida\n",
            "to de boa\n",
            "puto da vida\n"
          ]
        }
      ]
    },
    {
      "cell_type": "markdown",
      "metadata": {
        "id": "5Ks1FNC0AJcT"
      },
      "source": [
        "---    \n",
        "    \n",
        "## Quais são as outras formas de praticar esses conceitos?\n",
        "\n",
        "<img src=\"https://media.giphy.com/media/45dPIJaV9AYOZUZ0nQ/giphy.gif\" align=\"left\">\n"
      ]
    },
    {
      "cell_type": "markdown",
      "metadata": {
        "id": "KP1v0lD1AJcT"
      },
      "source": [
        "<Adicionar atividade de sua preferência para aplicação dos conceitos>"
      ]
    }
  ],
  "metadata": {
    "kernelspec": {
      "display_name": "Python 3",
      "language": "python",
      "name": "python3"
    },
    "language_info": {
      "codemirror_mode": {
        "name": "ipython",
        "version": 3
      },
      "file_extension": ".py",
      "mimetype": "text/x-python",
      "name": "python",
      "nbconvert_exporter": "python",
      "pygments_lexer": "ipython3",
      "version": "3.8.5"
    },
    "colab": {
      "provenance": []
    }
  },
  "nbformat": 4,
  "nbformat_minor": 0
}