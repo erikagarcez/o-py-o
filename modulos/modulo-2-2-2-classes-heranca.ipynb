{
  "cells": [
    {
      "cell_type": "markdown",
      "metadata": {
        "id": "57EzTg1IAyqo"
      },
      "source": [
        "<img src=\"https://github.com/erikagarcez/o-py-o/blob/master/imagens/9.png?raw=1\">\n",
        "\n",
        "## Revisando o conteúdo da semana!"
      ]
    },
    {
      "cell_type": "markdown",
      "metadata": {
        "id": "KVyyXunvAyqs"
      },
      "source": [
        "#### Relembrando alguns conceitos:\n",
        "\n",
        "> **Polimorfismo** significa a possibilidade de programar considerando abstrações que poderão ser especializadas quando necessário e, inclusive, intercamibadas. Programar para um supertipo é vida <3\n",
        "O polimorfismo pode ser aplicado através a utilização de um supertipo ou através de herança, quando utilizamos a *sobrecarga de métodos*.\n",
        "\n",
        "> **Overriding** - Sobrescrevendo - Quando uma classe filha tem a possibilidade de utilizar o mesmo método da classe mãe usando mesmo nome e parâmentros mas a implementação diferente.\n",
        "\n",
        "> **Overloading** - Sobrecarregando - Quando uma classe filha tem a possibilidade de utilizar o mesmo método da classe mãe usando apenas parâmentros diferentes.\n",
        "\n",
        "1) A partir do material estudado e dos conceitos acima observe com atenção o código abaixo e depois teste ele seguindo as seguintes instruções:\n",
        "- Crie um objeto que seja um Gato e teste seus métodos.\n",
        "- Crie um objeto que seja um Cachorro e teste seus métodos."
      ]
    },
    {
      "cell_type": "code",
      "execution_count": 2,
      "metadata": {
        "id": "0bUayLcqAyqt"
      },
      "outputs": [],
      "source": [
        "class Pet(object):\n",
        "    '''Classe mãe de todos os pets'''\n",
        "    \n",
        "    def __init__(self, name, species):\n",
        "        self.name = name\n",
        "        self.species = species\n",
        "    \n",
        "    def getName(self):\n",
        "        return self.name\n",
        "    \n",
        "    def getSpecies(self):\n",
        "        return self.species\n",
        "    \n",
        "    def __str__(self):\n",
        "        return \"%s is a %s\" % (self.name, self.species)"
      ]
    },
    {
      "cell_type": "code",
      "execution_count": 3,
      "metadata": {
        "id": "3NShuLGUAyqu"
      },
      "outputs": [],
      "source": [
        "class Dog(Pet):\n",
        "    \n",
        "    # exemplo de overloading\n",
        "    def __init__(self, name, chases_cats):\n",
        "        super().__init__(name, \"dog\")\n",
        "        self.chases_cats = chases_cats\n",
        "        \n",
        "    # exemplo de overriding\n",
        "    def __str__(self):\n",
        "        addtional_info = \"\"\n",
        "        \n",
        "        if self.chases_cats:\n",
        "            addtional_info = \" who chases cates\"\n",
        "            \n",
        "        return super().__str__() + addtional_info"
      ]
    },
    {
      "cell_type": "code",
      "execution_count": 4,
      "metadata": {
        "id": "2u9VSS9CAyqv",
        "outputId": "51be85fd-0db5-46d4-e0e1-2ca4bf3a0ad5",
        "colab": {
          "base_uri": "https://localhost:8080/",
          "height": 35
        }
      },
      "outputs": [
        {
          "output_type": "execute_result",
          "data": {
            "text/plain": [
              "'lola is a cat'"
            ],
            "application/vnd.google.colaboratory.intrinsic+json": {
              "type": "string"
            }
          },
          "metadata": {},
          "execution_count": 4
        }
      ],
      "source": [
        "gatinho = Pet('lola', 'cat')\n",
        "gatinho.__str__()"
      ]
    },
    {
      "cell_type": "code",
      "source": [
        "catiorro = Dog('lulu', True,)\n",
        "catiorro.__str__()"
      ],
      "metadata": {
        "id": "5DsYnADdH52L",
        "outputId": "446f15de-89a7-4544-eb23-856fc8649c1d",
        "colab": {
          "base_uri": "https://localhost:8080/",
          "height": 35
        }
      },
      "execution_count": 5,
      "outputs": [
        {
          "output_type": "execute_result",
          "data": {
            "text/plain": [
              "'lulu is a dog who chases cates'"
            ],
            "application/vnd.google.colaboratory.intrinsic+json": {
              "type": "string"
            }
          },
          "metadata": {},
          "execution_count": 5
        }
      ]
    },
    {
      "cell_type": "markdown",
      "metadata": {
        "id": "BYE4Ty5cAyqv"
      },
      "source": [
        "---    \n",
        "    \n",
        "## Quais são as outras formas de praticar esses conceitos?\n",
        "\n",
        "<img src=\"https://media.giphy.com/media/loeWwRjzzhuu43Yx2C/giphy.gif\" align=\"left\">"
      ]
    },
    {
      "cell_type": "markdown",
      "metadata": {
        "id": "jlTSKkxCAyqv"
      },
      "source": [
        "<Adicionar atividade de sua preferência para aplicação dos conceitos>"
      ]
    }
  ],
  "metadata": {
    "kernelspec": {
      "display_name": "Python 3",
      "language": "python",
      "name": "python3"
    },
    "language_info": {
      "codemirror_mode": {
        "name": "ipython",
        "version": 3
      },
      "file_extension": ".py",
      "mimetype": "text/x-python",
      "name": "python",
      "nbconvert_exporter": "python",
      "pygments_lexer": "ipython3",
      "version": "3.8.5"
    },
    "colab": {
      "provenance": []
    }
  },
  "nbformat": 4,
  "nbformat_minor": 0
}